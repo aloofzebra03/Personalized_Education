{
 "cells": [
  {
   "cell_type": "code",
   "execution_count": 25,
   "id": "ce6287fc",
   "metadata": {},
   "outputs": [],
   "source": [
    "import pandas as pd\n",
    "import ast"
   ]
  },
  {
   "cell_type": "code",
   "execution_count": 26,
   "id": "45e63d7f",
   "metadata": {},
   "outputs": [],
   "source": [
    "concepts = [\n",
    "    'Sundial',\n",
    "    'Water Clock',\n",
    "    'Hourglass',\n",
    "    'Candle Clock',\n",
    "    'Simple Pendulum',\n",
    "    'Time Period of Pendulum',\n",
    "    'Speed',\n",
    "    'SI Unit of Time',\n",
    "    'Uniform Linear Motion',\n",
    "    'Non-uniform Linear Motion'\n",
    "]\n"
   ]
  },
  {
   "cell_type": "code",
   "execution_count": null,
   "id": "536db14e",
   "metadata": {},
   "outputs": [],
   "source": [
    "def complete_concepts(row_list):\n",
    "    # Find indexes of any recognized concepts in the row\n",
    "    indices = [concepts.index(item) for item in row_list if item in concepts]\n",
    "    if not indices:\n",
    "        return []\n",
    "    max_idx = max(indices)\n",
    "    # Return all concepts from the start to max_idx (no duplicates)\n",
    "    return concepts[: max_idx + 1]"
   ]
  },
  {
   "cell_type": "code",
   "execution_count": 28,
   "id": "cb2deedc",
   "metadata": {},
   "outputs": [
    {
     "data": {
      "text/plain": [
       "0       ['Sundial', 'Water Clock', 'Hourglass', 'Candl...\n",
       "1                                             ['Sundial']\n",
       "2       ['Sundial', 'Water Clock', 'Hourglass', 'Candl...\n",
       "3                              ['Sundial', 'Water Clock']\n",
       "4       ['Sundial', 'Water Clock', 'Hourglass', 'Candl...\n",
       "                              ...                        \n",
       "1495                           ['Sundial', 'Water Clock']\n",
       "1496                           ['Sundial', 'Water Clock']\n",
       "1497                           ['Sundial', 'Water Clock']\n",
       "1498                                          ['Sundial']\n",
       "1499                           ['Sundial', 'Water Clock']\n",
       "Name: knowledge_graph_nodes_covered, Length: 1500, dtype: object"
      ]
     },
     "execution_count": 28,
     "metadata": {},
     "output_type": "execute_result"
    }
   ],
   "source": [
    "df = pd.read_csv('output/langchain_student_params_1500.csv')\n",
    "df['knowledge_graph_nodes_covered']"
   ]
  },
  {
   "cell_type": "code",
   "execution_count": 19,
   "id": "b194a394",
   "metadata": {},
   "outputs": [
    {
     "data": {
      "text/plain": [
       "\"['SI Unit of Time', 'Speed']\""
      ]
     },
     "execution_count": 19,
     "metadata": {},
     "output_type": "execute_result"
    }
   ],
   "source": [
    "df.iloc[0]['knowledge_graph_nodes_covered']"
   ]
  },
  {
   "cell_type": "code",
   "execution_count": 22,
   "id": "6cd6765c",
   "metadata": {},
   "outputs": [],
   "source": [
    "df['knowledge_graph_nodes_covered'] = df['knowledge_graph_nodes_covered'].apply(\n",
    "        lambda cell: ast.literal_eval(cell) if isinstance(cell, str) else cell\n",
    ")"
   ]
  },
  {
   "cell_type": "code",
   "execution_count": 23,
   "id": "8c103bac",
   "metadata": {},
   "outputs": [
    {
     "data": {
      "text/plain": [
       "0       [Sundial, Water Clock, Hourglass, Candle Clock...\n",
       "1                                               [Sundial]\n",
       "2       [Sundial, Water Clock, Hourglass, Candle Clock...\n",
       "3                                  [Sundial, Water Clock]\n",
       "4       [Sundial, Water Clock, Hourglass, Candle Clock...\n",
       "                              ...                        \n",
       "1495                               [Sundial, Water Clock]\n",
       "1496                               [Sundial, Water Clock]\n",
       "1497                               [Sundial, Water Clock]\n",
       "1498                                            [Sundial]\n",
       "1499                               [Sundial, Water Clock]\n",
       "Name: knowledge_graph_nodes_covered, Length: 1500, dtype: object"
      ]
     },
     "execution_count": 23,
     "metadata": {},
     "output_type": "execute_result"
    }
   ],
   "source": [
    "df['knowledge_graph_nodes_covered'] = df['knowledge_graph_nodes_covered'].apply(complete_concepts)\n",
    "df['knowledge_graph_nodes_covered']"
   ]
  },
  {
   "cell_type": "code",
   "execution_count": 24,
   "id": "56228749",
   "metadata": {},
   "outputs": [
    {
     "name": "stdout",
     "output_type": "stream",
     "text": [
      "Processed 1500 rows and wrote to 'output/langchain_student_params_1500.csv'.\n"
     ]
    }
   ],
   "source": [
    "df.to_csv('output/langchain_student_params_1500.csv', index=False)\n",
    "print(f\"Processed {len(df)} rows and wrote to '{'output/langchain_student_params_1500.csv'}'.\")"
   ]
  },
  {
   "cell_type": "code",
   "execution_count": null,
   "id": "9b5e8a2e",
   "metadata": {},
   "outputs": [],
   "source": []
  }
 ],
 "metadata": {
  "kernelspec": {
   "display_name": "Python 3",
   "language": "python",
   "name": "python3"
  },
  "language_info": {
   "codemirror_mode": {
    "name": "ipython",
    "version": 3
   },
   "file_extension": ".py",
   "mimetype": "text/x-python",
   "name": "python",
   "nbconvert_exporter": "python",
   "pygments_lexer": "ipython3",
   "version": "3.13.2"
  }
 },
 "nbformat": 4,
 "nbformat_minor": 5
}
