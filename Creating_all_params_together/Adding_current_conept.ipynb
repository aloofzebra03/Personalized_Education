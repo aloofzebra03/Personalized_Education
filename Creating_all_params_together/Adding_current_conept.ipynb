{
 "cells": [
  {
   "cell_type": "code",
   "execution_count": 1,
   "id": "3a58bf1b",
   "metadata": {},
   "outputs": [],
   "source": [
    "import pandas as pd\n",
    "import ast"
   ]
  },
  {
   "cell_type": "code",
   "execution_count": 2,
   "id": "d4b3395a",
   "metadata": {},
   "outputs": [],
   "source": [
    "df = pd.read_csv('output/langchain_student_params_1500.csv')"
   ]
  },
  {
   "cell_type": "code",
   "execution_count": 4,
   "id": "64415865",
   "metadata": {},
   "outputs": [],
   "source": [
    "concepts = ['Sundial',\n",
    "    'Water Clock',\n",
    "    'Hourglass',\n",
    "    'Candle Clock',\n",
    "    'Simple Pendulum',\n",
    "    'Time Period of Pendulum',\n",
    "    'Speed',\n",
    "    'SI Unit of Time',\n",
    "    'Uniform Linear Motion',\n",
    "    'Non-uniform Linear Motion']"
   ]
  },
  {
   "cell_type": "code",
   "execution_count": 24,
   "id": "27bebfce",
   "metadata": {},
   "outputs": [],
   "source": [
    "def get_concept(row):\n",
    "    nodes = ast.literal_eval(row['knowledge_graph_nodes_covered'])\n",
    "    last = None\n",
    "    for concept in reversed(concepts):\n",
    "        if concept in nodes:\n",
    "            last = concept\n",
    "            break\n",
    "    if last is not None:\n",
    "        last_idx = concepts.index(last)\n",
    "        for next_concept in concepts[last_idx+1:]:\n",
    "            if next_concept not in nodes:\n",
    "                return next_concept\n",
    "    return concepts[-1]"
   ]
  },
  {
   "cell_type": "code",
   "execution_count": 25,
   "id": "e4c247fd",
   "metadata": {},
   "outputs": [],
   "source": [
    "df['ongoing_concept'] = df.apply(get_concept, axis=1)"
   ]
  },
  {
   "cell_type": "code",
   "execution_count": 26,
   "id": "4f845e31",
   "metadata": {},
   "outputs": [
    {
     "name": "stdout",
     "output_type": "stream",
     "text": [
      "['Sundial', 'Water Clock']\n"
     ]
    },
    {
     "data": {
      "text/plain": [
       "'Hourglass'"
      ]
     },
     "execution_count": 26,
     "metadata": {},
     "output_type": "execute_result"
    }
   ],
   "source": [
    "print(df.iloc[1067]['knowledge_graph_nodes_covered'])\n",
    "df.iloc[1067]['ongoing_concept']"
   ]
  },
  {
   "cell_type": "code",
   "execution_count": 27,
   "id": "649207c6",
   "metadata": {},
   "outputs": [],
   "source": [
    "df.to_csv('output/langchain_student_params_1500.csv', index=False)"
   ]
  }
 ],
 "metadata": {
  "kernelspec": {
   "display_name": "Python 3",
   "language": "python",
   "name": "python3"
  },
  "language_info": {
   "codemirror_mode": {
    "name": "ipython",
    "version": 3
   },
   "file_extension": ".py",
   "mimetype": "text/x-python",
   "name": "python",
   "nbconvert_exporter": "python",
   "pygments_lexer": "ipython3",
   "version": "3.13.2"
  }
 },
 "nbformat": 4,
 "nbformat_minor": 5
}
