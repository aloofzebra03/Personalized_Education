{
 "cells": [
  {
   "cell_type": "code",
   "execution_count": 48,
   "id": "b7d1fd47",
   "metadata": {},
   "outputs": [],
   "source": [
    "import pandas as pd"
   ]
  },
  {
   "cell_type": "code",
   "execution_count": 49,
   "id": "90a08d02",
   "metadata": {},
   "outputs": [],
   "source": [
    "df1 = pd.read_csv('output/langchain_student_params_1300_more.csv')\n",
    "df2 = pd.read_csv('output/langchain_student_params_1300.csv')\n",
    "df3 = pd.read_csv('output/langchain_student_params_1300_part3.csv')"
   ]
  },
  {
   "cell_type": "code",
   "execution_count": 50,
   "id": "0a056534",
   "metadata": {},
   "outputs": [],
   "source": [
    "df = pd.concat([df1, df2,df3], ignore_index=True)"
   ]
  },
  {
   "cell_type": "code",
   "execution_count": 51,
   "id": "8f6f7a7d",
   "metadata": {},
   "outputs": [
    {
     "data": {
      "text/plain": [
       "(3900, 45)"
      ]
     },
     "execution_count": 51,
     "metadata": {},
     "output_type": "execute_result"
    }
   ],
   "source": [
    "df.shape"
   ]
  },
  {
   "cell_type": "code",
   "execution_count": 52,
   "id": "71e00088",
   "metadata": {},
   "outputs": [
    {
     "data": {
      "text/plain": [
       "next_section\n",
       "Explanation (with analogies)     891\n",
       "What-if Scenarios                532\n",
       "Real-Life Application            511\n",
       "Concept Definition               453\n",
       "Details (facts, sub-concepts)    350\n",
       "MCQs                             336\n",
       "Intuition                        331\n",
       "Logical Flow                     259\n",
       "Working                          237\n",
       "Name: count, dtype: int64"
      ]
     },
     "execution_count": 52,
     "metadata": {},
     "output_type": "execute_result"
    }
   ],
   "source": [
    "df['next_section'].value_counts()"
   ]
  },
  {
   "cell_type": "code",
   "execution_count": 53,
   "id": "4735f759",
   "metadata": {},
   "outputs": [
    {
     "data": {
      "text/plain": [
       "Index(['conceptual_clarity_level', 'attention_span_category',\n",
       "       'retention_strength', 'problem_solving_speed_sec', 'error_pattern',\n",
       "       'growth_slope', 'response_to_feedback', 'revisions_per_week',\n",
       "       'days_between_revisions', 'method_of_revision',\n",
       "       'question_asking_nature', 'self_assessment_accuracy',\n",
       "       'exploration_tendency', 'teacher_relationship_quality',\n",
       "       'peer_learning_behavior', 'communication_clarity',\n",
       "       'discussion_engagement', 'test_anxiety_level',\n",
       "       'resilience_after_failure', 'motivation_intrinsic_vs_extrinsic',\n",
       "       'achievement_orientation', 'emotional_self_awareness',\n",
       "       'device_access_type', 'preferred_edtech_apps',\n",
       "       'digital_distraction_level', 'input_method_preference',\n",
       "       'highest_academic_level', 'study_space_quality',\n",
       "       'academic_pressure_at_home', 'family_responsibilities_hrs',\n",
       "       'support_system_strength', 'content_type_preference',\n",
       "       'knowledge_graph_nodes_covered', 'ongoing_concept',\n",
       "       'metacognitive_skill_level', 'next_section', 'difficulty',\n",
       "       'board_exam_importance', 'olympiad_importance', 'avg_study_time_min',\n",
       "       'interest_evoking', 'curiosity_evoking', 'critical_reasoning_needed',\n",
       "       'inquiry_learning_scope', 'example_availability'],\n",
       "      dtype='object')"
      ]
     },
     "execution_count": 53,
     "metadata": {},
     "output_type": "execute_result"
    }
   ],
   "source": [
    "df.columns"
   ]
  },
  {
   "cell_type": "code",
   "execution_count": 55,
   "id": "cbfd4305",
   "metadata": {},
   "outputs": [
    {
     "data": {
      "text/plain": [
       "1444"
      ]
     },
     "execution_count": 55,
     "metadata": {},
     "output_type": "execute_result"
    }
   ],
   "source": [
    "df.drop(columns = 'next_section').duplicated(keep=False).sum()"
   ]
  },
  {
   "cell_type": "code",
   "execution_count": 42,
   "id": "f5f717e9",
   "metadata": {},
   "outputs": [],
   "source": [
    "df = df.drop_duplicates(subset = ['conceptual_clarity_level', 'attention_span_category',\n",
    "       'retention_strength', 'problem_solving_speed_sec', 'error_pattern',\n",
    "       'growth_slope', 'response_to_feedback', 'revisions_per_week',\n",
    "       'days_between_revisions', 'method_of_revision',\n",
    "       'question_asking_nature', 'self_assessment_accuracy',\n",
    "       'exploration_tendency', 'teacher_relationship_quality',\n",
    "       'peer_learning_behavior', 'communication_clarity',\n",
    "       'discussion_engagement', 'test_anxiety_level',\n",
    "       'resilience_after_failure', 'motivation_intrinsic_vs_extrinsic',\n",
    "       'achievement_orientation', 'emotional_self_awareness',\n",
    "       'device_access_type', 'preferred_edtech_apps',\n",
    "       'digital_distraction_level', 'input_method_preference',\n",
    "       'highest_academic_level', 'study_space_quality',\n",
    "       'academic_pressure_at_home', 'family_responsibilities_hrs',\n",
    "       'support_system_strength', 'content_type_preference',\n",
    "       'knowledge_graph_nodes_covered', 'ongoing_concept',\n",
    "       'metacognitive_skill_level','difficulty',\n",
    "       'board_exam_importance', 'olympiad_importance', 'avg_study_time_min',\n",
    "       'interest_evoking', 'curiosity_evoking', 'critical_reasoning_needed',\n",
    "       'inquiry_learning_scope', 'example_availability'],keep = False)"
   ]
  },
  {
   "cell_type": "code",
   "execution_count": 43,
   "id": "96183fc2",
   "metadata": {},
   "outputs": [
    {
     "data": {
      "text/plain": [
       "(2456, 45)"
      ]
     },
     "execution_count": 43,
     "metadata": {},
     "output_type": "execute_result"
    }
   ],
   "source": [
    "df.shape"
   ]
  },
  {
   "cell_type": "code",
   "execution_count": 45,
   "id": "53884a77",
   "metadata": {},
   "outputs": [],
   "source": [
    "df.to_csv('output/langchain_student_params_v3.csv', index=False)"
   ]
  },
  {
   "cell_type": "code",
   "execution_count": 46,
   "id": "923fc2f7",
   "metadata": {},
   "outputs": [
    {
     "data": {
      "text/plain": [
       "next_section\n",
       "Explanation (with analogies)     675\n",
       "What-if Scenarios                355\n",
       "Concept Definition               285\n",
       "Real-Life Application            283\n",
       "Details (facts, sub-concepts)    186\n",
       "Intuition                        185\n",
       "MCQs                             179\n",
       "Working                          155\n",
       "Logical Flow                     153\n",
       "Name: count, dtype: int64"
      ]
     },
     "execution_count": 46,
     "metadata": {},
     "output_type": "execute_result"
    }
   ],
   "source": [
    "df['next_section'].value_counts()"
   ]
  },
  {
   "cell_type": "code",
   "execution_count": null,
   "id": "8a079950",
   "metadata": {},
   "outputs": [],
   "source": []
  }
 ],
 "metadata": {
  "kernelspec": {
   "display_name": "Python 3",
   "language": "python",
   "name": "python3"
  },
  "language_info": {
   "codemirror_mode": {
    "name": "ipython",
    "version": 3
   },
   "file_extension": ".py",
   "mimetype": "text/x-python",
   "name": "python",
   "nbconvert_exporter": "python",
   "pygments_lexer": "ipython3",
   "version": "3.10.13"
  }
 },
 "nbformat": 4,
 "nbformat_minor": 5
}
