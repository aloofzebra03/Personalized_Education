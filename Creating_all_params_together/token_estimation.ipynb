{
 "cells": [
  {
   "cell_type": "code",
   "execution_count": null,
   "id": "c10b0a88",
   "metadata": {},
   "outputs": [],
   "source": [
    "from prompt_builder import prompt, parser\n"
   ]
  },
  {
   "cell_type": "code",
   "execution_count": 2,
   "id": "0790a88e",
   "metadata": {},
   "outputs": [
    {
     "data": {
      "text/plain": [
       "True"
      ]
     },
     "execution_count": 2,
     "metadata": {},
     "output_type": "execute_result"
    }
   ],
   "source": [
    "import os\n",
    "from dotenv import load_dotenv\n",
    "load_dotenv()"
   ]
  },
  {
   "cell_type": "code",
   "execution_count": null,
   "id": "8809a859",
   "metadata": {},
   "outputs": [
    {
     "data": {
      "text/plain": [
       "'{\"name\":\"Anika Sharma\",\"age\":15,\"class_level\":10,\"syllabus\":\"CBSE\",\"interests\":\"[\\'Coding\\', \\'Astronomy\\', \\'Debate\\']\",\"personality\":\"[\\'Curious\\', \\'Creative\\', \\'Determined\\']\",\"hobbies\":\"[\\'Reading\\', \\'Drawing\\', \\'Hiking\\']\",\"learning_style\":\"[\\'Visual\\', \\'Kinesthetic\\']\",\"pattern_of_learning\":\"[\\'Hands-on\\', \\'Group work\\']\",\"study_routine_start\":\"18:00\",\"study_routine_end\":\"21:00\",\"preferred_subjects\":\"[\\'Math\\', \\'Science\\', \\'English\\']\",\"struggles_with\":\"[\\'History\\', \\'Physics\\']\",\"strengths\":\"[\\'Problem-solving\\', \\'Communication\\']\",\"challenges\":\"[\\'Public speaking\\', \\'Time management\\']\",\"academic_progress\":\"Steady improvement in Math and Science.\",\"marks_last_year_final\":\"{\\'Math\\': 92, \\'Science\\': 88, \\'English\\': 85, \\'History\\': 70, \\'Physics\\': 75}\",\"marks_last_internals\":\"{\\'Math\\': 95, \\'Science\\': 90, \\'English\\': 88, \\'History\\': 75, \\'Physics\\': 80}\",\"emotional_traits\":\"Generally positive and resilient, seeks clarification when needed.\",\"motivation_style\":\"[\\'Recognition\\', \\'Challenge\\']\",\"group_behavior\":\"Cooperative and supportive, actively participates in group projects.\",\"social_skills\":\"Strong communication and interpersonal skills, maintains positive relationships with peers and teachers.\",\"teacher_feedback\":\"Anika is a bright and engaged student who consistently demonstrates effort and initiative. She participates actively in class discussions and is always willing to help her classmates.\",\"student_voice\":\"I enjoy learning new things and challenging myself. I believe in collaboration and helping others succeed.\",\"accomplishments\":\"[\\'Won first place in school debate competition\\', \\'Member of the school astronomy club\\']\",\"digital_learning\":\"[\\'Khan Academy\\', \\'Google Classroom\\', \\'Zoom\\']\",\"tech_savviness\":\"High\",\"home_environment\":\"[\\'Supportive parents\\', \\'Access to internet and computer\\', \\'English and Hindi spoken at home\\']\",\"interesting_stories\":\"Anika developed a mobile app for tracking celestial events as part of a school project, demonstrating her passion for astronomy and coding.\"}'"
      ]
     },
     "execution_count": 4,
     "metadata": {},
     "output_type": "execute_result"
    }
   ],
   "source": [
    "import pandas as pd\n",
    "df = pd.read_csv('langchain_structured_profiles.csv')\n",
    "memory = df.iloc[0].to_json()"
   ]
  },
  {
   "cell_type": "code",
   "execution_count": 16,
   "id": "53c32948",
   "metadata": {},
   "outputs": [
    {
     "name": "stdout",
     "output_type": "stream",
     "text": [
      "n_prompt=2071, n_profile_in=583, n_profile_out=548\n",
      "Estimated total tokens for 1000 profiles: 293,827,500\n"
     ]
    }
   ],
   "source": [
    "import os\n",
    "from google import genai\n",
    "from langchain import PromptTemplate\n",
    "\n",
    "# 1) Install & import\n",
    "# pip install google-genai\n",
    "\n",
    "# 2) Configure (picks up GOOGLE_API_KEY from env)\n",
    "client = genai.Client(api_key=os.getenv(\"GOOGLE_API_KEY\"))\n",
    "\n",
    "# 4) Helper to call Gemini and return usage + JSON\n",
    "def call_gemini_and_count(memory_block: str):\n",
    "    prompt_text = prompt.format(memory_block=memory_block)\n",
    "\n",
    "    # 4a) Send prompt\n",
    "    resp = client.models.generate_content(\n",
    "        model=\"gemini-1.5-flash\",\n",
    "        contents=prompt_text,\n",
    "    )\n",
    "\n",
    "    # 4b) Exact token metadata\n",
    "    usage = resp.usage_metadata\n",
    "    n_prompt    = usage.prompt_token_count\n",
    "    n_completion = usage.candidates_token_count\n",
    "    n_total      = usage.total_token_count\n",
    "\n",
    "    # 4c) Generated JSON\n",
    "    profile_json = resp.text\n",
    "\n",
    "    return {\n",
    "        \"prompt_tokens\":     n_prompt,\n",
    "        \"completion_tokens\": n_completion,\n",
    "        \"total_tokens\":      n_total,\n",
    "        \"profile_json\":      profile_json,\n",
    "    }\n",
    "\n",
    "# 5) Pilot calls\n",
    "res1 = call_gemini_and_count(memory_block=\"\")            # i=1\n",
    "first_profile = res1[\"profile_json\"]\n",
    "res2 = call_gemini_and_count(memory_block=first_profile) # i=2\n",
    "\n",
    "# 6) Infer blocks\n",
    "n_prompt      = res1[\"prompt_tokens\"]\n",
    "n_profile_in  = res2[\"prompt_tokens\"] - n_prompt\n",
    "n_profile_out = res2[\"completion_tokens\"]\n",
    "\n",
    "print(f\"n_prompt={n_prompt}, n_profile_in={n_profile_in}, n_profile_out={n_profile_out}\")\n",
    "\n",
    "# 7) Extrapolate for N profiles\n",
    "N = 1000\n",
    "# sum_{i=1..N} [n_prompt + (i-1)*n_profile_in + n_profile_out]\n",
    "total = N*(n_prompt + n_profile_out) + n_profile_in*(N*(N-1)//2)\n",
    "print(f\"Estimated total tokens for {N} profiles: {total:,}\")\n"
   ]
  },
  {
   "cell_type": "code",
   "execution_count": 17,
   "id": "d73be9dc",
   "metadata": {},
   "outputs": [
    {
     "data": {
      "text/plain": [
       "'{\"name\": \"Anika Sharma\", \"age\": 15, \"class_level\": 10, \"syllabus\": \"CBSE\", \"interests\": [\"Coding\", \"Singing\", \"Dancing\"], \"personality\": [\"Creative\", \"Determined\", \"Friendly\"], \"hobbies\": [\"Drawing\", \"Reading\", \"Hiking\"], \"learning_style\": [\"Visual\", \"Kinesthetic\"], \"pattern_of_learning\": [\"Group Study\", \"Hands-on activities\"], \"study_routine_start\": \"17:00\", \"study_routine_end\": \"21:00\", \"preferred_subjects\": [\"Mathematics\", \"Science\", \"English\"], \"struggles_with\": [\"History\", \"Chemistry\"], \"strengths\": [\"Problem-solving\", \"Communication\", \"Teamwork\"], \"challenges\": [\"Public speaking\", \"Time management\"], \"academic_progress\": \"Anika has shown consistent improvement in her academic performance throughout the year.\", \"marks_last_year_final\": {\"Mathematics\": 85, \"Science\": 88, \"English\": 92, \"History\": 70, \"Chemistry\": 75}, \"marks_last_internals\": {\"Mathematics\": 90, \"Science\": 92, \"English\": 95, \"History\": 75, \"Chemistry\": 80}, \"emotional_traits\": \"Anika is generally positive and resilient, but can get discouraged by setbacks.\", \"motivation_style\": [\"Praise\", \"Recognition\"], \"group_behavior\": \"Anika is a valuable team player, contributing actively and positively to group projects.\", \"social_skills\": \"Anika demonstrates excellent social skills, building rapport easily and maintaining positive relationships with peers and teachers.\", \"teacher_feedback\": \"Anika is a bright student who participates actively in class and demonstrates a keen interest in learning.  She consistently produces high-quality work and is a pleasure to have in class. However, she sometimes needs to improve her time management skills and focus on areas where she is less confident.\", \"student_voice\": \"I want to continue learning and growing, and I\\'m always open to trying new things and taking on challenges.\", \"accomplishments\": [\"Won first prize in school\\'s science fair\", \"Participated in regional dance competition\"], \"digital_learning\": [\"Google Classroom\", \"Khan Academy\", \"YouTube tutorials\"], \"tech_savviness\": \"High\", \"home_environment\": [\"Supportive\", \"Internet access\", \"English and Hindi spoken\"], \"interesting_stories\": \"Anika\\'s journey with coding started when she was just 10, after building her first simple game and receiving positive feedback which boosted her confidence.  She\\'s now actively involved in coding competitions and considers it her future career path.\"}\\n'"
      ]
     },
     "execution_count": 17,
     "metadata": {},
     "output_type": "execute_result"
    }
   ],
   "source": [
    "res1['profile_json']"
   ]
  },
  {
   "cell_type": "code",
   "execution_count": 18,
   "id": "0021a49d",
   "metadata": {},
   "outputs": [
    {
     "data": {
      "text/plain": [
       "StudentProfile(name='Anika Sharma', age=15, class_level=10, syllabus='CBSE', interests=['Coding', 'Singing', 'Dancing'], personality=['Creative', 'Determined', 'Friendly'], hobbies=['Drawing', 'Reading', 'Hiking'], learning_style=['Visual', 'Kinesthetic'], pattern_of_learning=['Group Study', 'Hands-on activities'], study_routine_start='17:00', study_routine_end='21:00', preferred_subjects=['Mathematics', 'Science', 'English'], struggles_with=['History', 'Chemistry'], strengths=['Problem-solving', 'Communication', 'Teamwork'], challenges=['Public speaking', 'Time management'], academic_progress='Anika has shown consistent improvement in her academic performance throughout the year.', marks_last_year_final={'Mathematics': 85, 'Science': 88, 'English': 92, 'History': 70, 'Chemistry': 75}, marks_last_internals={'Mathematics': 90, 'Science': 92, 'English': 95, 'History': 75, 'Chemistry': 80}, emotional_traits='Anika is generally positive and resilient, but can get discouraged by setbacks.', motivation_style=['Praise', 'Recognition'], group_behavior='Anika is a valuable team player, contributing actively and positively to group projects.', social_skills='Anika demonstrates excellent social skills, building rapport easily and maintaining positive relationships with peers and teachers.', teacher_feedback='Anika is a bright student who participates actively in class and demonstrates a keen interest in learning.  She consistently produces high-quality work and is a pleasure to have in class. However, she sometimes needs to improve her time management skills and focus on areas where she is less confident.', student_voice=\"I want to continue learning and growing, and I'm always open to trying new things and taking on challenges.\", accomplishments=[\"Won first prize in school's science fair\", 'Participated in regional dance competition'], digital_learning=['Google Classroom', 'Khan Academy', 'YouTube tutorials'], tech_savviness='High', home_environment=['Supportive', 'Internet access', 'English and Hindi spoken'], interesting_stories=\"Anika's journey with coding started when she was just 10, after building her first simple game and receiving positive feedback which boosted her confidence.  She's now actively involved in coding competitions and considers it her future career path.\")"
      ]
     },
     "execution_count": 18,
     "metadata": {},
     "output_type": "execute_result"
    }
   ],
   "source": [
    "parser.parse(res1['profile_json'])"
   ]
  },
  {
   "cell_type": "code",
   "execution_count": null,
   "id": "2e0906f3",
   "metadata": {},
   "outputs": [],
   "source": []
  }
 ],
 "metadata": {
  "kernelspec": {
   "display_name": "Python 3",
   "language": "python",
   "name": "python3"
  },
  "language_info": {
   "codemirror_mode": {
    "name": "ipython",
    "version": 3
   },
   "file_extension": ".py",
   "mimetype": "text/x-python",
   "name": "python",
   "nbconvert_exporter": "python",
   "pygments_lexer": "ipython3",
   "version": "3.13.2"
  }
 },
 "nbformat": 4,
 "nbformat_minor": 5
}
