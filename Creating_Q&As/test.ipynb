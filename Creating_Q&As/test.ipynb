{
 "cells": [
  {
   "cell_type": "code",
   "execution_count": 6,
   "id": "f814ebcc",
   "metadata": {},
   "outputs": [
    {
     "name": "stderr",
     "output_type": "stream",
     "text": [
      "<>:2: SyntaxWarning: invalid escape sequence '\\s'\n",
      "<>:2: SyntaxWarning: invalid escape sequence '\\s'\n",
      "C:\\Users\\aryan\\AppData\\Local\\Temp\\ipykernel_13340\\983422787.py:2: SyntaxWarning: invalid escape sequence '\\s'\n",
      "  df = pd.read_csv('data\\student_profiles.csv')\n"
     ]
    }
   ],
   "source": [
    "import pandas as pd\n",
    "df = pd.read_csv('data\\student_profiles.csv')"
   ]
  },
  {
   "cell_type": "code",
   "execution_count": 7,
   "id": "2bcd3f3c",
   "metadata": {},
   "outputs": [
    {
     "data": {
      "text/plain": [
       "RangeIndex(start=0, stop=50, step=1)"
      ]
     },
     "execution_count": 7,
     "metadata": {},
     "output_type": "execute_result"
    }
   ],
   "source": [
    "df.index"
   ]
  },
  {
   "cell_type": "code",
   "execution_count": 17,
   "id": "821767aa",
   "metadata": {},
   "outputs": [
    {
     "name": "stdout",
     "output_type": "stream",
     "text": [
      "0 Anika Sharma\n",
      "{'name': 'Anika Sharma', 'age': 15, 'class_level': 10, 'syllabus': 'CBSE', 'interests': \"['Coding', 'Astronomy', 'Debate']\", 'personality': \"['Curious', 'Creative', 'Determined']\", 'hobbies': \"['Reading', 'Drawing', 'Hiking']\", 'learning_style': \"['Visual', 'Kinesthetic']\", 'pattern_of_learning': \"['Hands-on', 'Group work']\", 'study_routine_start': '18:00', 'study_routine_end': '21:00', 'preferred_subjects': \"['Math', 'Science', 'English']\", 'struggles_with': \"['History', 'Physics']\", 'strengths': \"['Problem-solving', 'Communication']\", 'challenges': \"['Public speaking', 'Time management']\", 'academic_progress': 'Steady improvement in Math and Science.', 'marks_last_year_final': \"{'Math': 92, 'Science': 88, 'English': 85, 'History': 70, 'Physics': 75}\", 'marks_last_internals': \"{'Math': 95, 'Science': 90, 'English': 88, 'History': 75, 'Physics': 80}\", 'emotional_traits': 'Generally positive and resilient, seeks clarification when needed.', 'motivation_style': \"['Recognition', 'Challenge']\", 'group_behavior': 'Cooperative and supportive, actively participates in group projects.', 'social_skills': 'Strong communication and interpersonal skills, maintains positive relationships with peers and teachers.', 'teacher_feedback': 'Anika is a bright and engaged student who consistently demonstrates effort and initiative. She participates actively in class discussions and is always willing to help her classmates.', 'student_voice': 'I enjoy learning new things and challenging myself. I believe in collaboration and helping others succeed.', 'accomplishments': \"['Won first place in school debate competition', 'Member of the school astronomy club']\", 'digital_learning': \"['Khan Academy', 'Google Classroom', 'Zoom']\", 'tech_savviness': 'High', 'home_environment': \"['Supportive parents', 'Access to internet and computer', 'English and Hindi spoken at home']\", 'interesting_stories': 'Anika developed a mobile app for tracking celestial events as part of a school project, demonstrating her passion for astronomy and coding.'}\n",
      "{\n",
      "  \"name\": \"Anika Sharma\",\n",
      "  \"age\": 15,\n",
      "  \"class_level\": 10,\n",
      "  \"syllabus\": \"CBSE\",\n",
      "  \"interests\": \"['Coding', 'Astronomy', 'Debate']\",\n",
      "  \"personality\": \"['Curious', 'Creative', 'Determined']\",\n",
      "  \"hobbies\": \"['Reading', 'Drawing', 'Hiking']\",\n",
      "  \"learning_style\": \"['Visual', 'Kinesthetic']\",\n",
      "  \"pattern_of_learning\": \"['Hands-on', 'Group work']\",\n",
      "  \"study_routine_start\": \"18:00\",\n",
      "  \"study_routine_end\": \"21:00\",\n",
      "  \"preferred_subjects\": \"['Math', 'Science', 'English']\",\n",
      "  \"struggles_with\": \"['History', 'Physics']\",\n",
      "  \"strengths\": \"['Problem-solving', 'Communication']\",\n",
      "  \"challenges\": \"['Public speaking', 'Time management']\",\n",
      "  \"academic_progress\": \"Steady improvement in Math and Science.\",\n",
      "  \"marks_last_year_final\": \"{'Math': 92, 'Science': 88, 'English': 85, 'History': 70, 'Physics': 75}\",\n",
      "  \"marks_last_internals\": \"{'Math': 95, 'Science': 90, 'English': 88, 'History': 75, 'Physics': 80}\",\n",
      "  \"emotional_traits\": \"Generally positive and resilient, seeks clarification when needed.\",\n",
      "  \"motivation_style\": \"['Recognition', 'Challenge']\",\n",
      "  \"group_behavior\": \"Cooperative and supportive, actively participates in group projects.\",\n",
      "  \"social_skills\": \"Strong communication and interpersonal skills, maintains positive relationships with peers and teachers.\",\n",
      "  \"teacher_feedback\": \"Anika is a bright and engaged student who consistently demonstrates effort and initiative. She participates actively in class discussions and is always willing to help her classmates.\",\n",
      "  \"student_voice\": \"I enjoy learning new things and challenging myself. I believe in collaboration and helping others succeed.\",\n",
      "  \"accomplishments\": \"['Won first place in school debate competition', 'Member of the school astronomy club']\",\n",
      "  \"digital_learning\": \"['Khan Academy', 'Google Classroom', 'Zoom']\",\n",
      "  \"tech_savviness\": \"High\",\n",
      "  \"home_environment\": \"['Supportive parents', 'Access to internet and computer', 'English and Hindi spoken at home']\",\n",
      "  \"interesting_stories\": \"Anika developed a mobile app for tracking celestial events as part of a school project, demonstrating her passion for astronomy and coding.\"\n",
      "}\n"
     ]
    }
   ],
   "source": [
    "import json\n",
    "for index,row in df.iloc[0:1].iterrows():\n",
    "    print(index,row['name'])\n",
    "    print(row.to_dict())\n",
    "    print(json.dumps(row.to_dict(), indent=2))"
   ]
  },
  {
   "cell_type": "code",
   "execution_count": 4,
   "id": "dea01266",
   "metadata": {},
   "outputs": [],
   "source": [
    "if 'student_id' not in df.columns:\n",
    "    df['student_id'] = df.index\n",
    "    df\n",
    "else :\n",
    "    print('false')"
   ]
  },
  {
   "cell_type": "code",
   "execution_count": 13,
   "id": "94052421",
   "metadata": {},
   "outputs": [
    {
     "name": "stdout",
     "output_type": "stream",
     "text": [
      "What is the student's age?\n",
      "\n",
      "Which grade is the student in?\n",
      "\n",
      "What syllabus does the student follow?\n",
      "\n",
      "What are some of the studentâ€™s interests?\n",
      "\n",
      "Can you describe the student's personality in a few words?\n",
      "\n",
      "What are the student's hobbies?\n",
      "\n",
      "What is the student's preferred learning style?\n",
      "\n",
      "How does the student typically learn best?\n",
      "\n",
      "What is the student's usual study routine?\n",
      "\n",
      "How long does the student typically study each day?\n",
      "\n",
      "What were the student's average marks last year?\n",
      "\n",
      "What were the student's marks in Math last year?\n",
      "\n",
      "What were the student's marks in English in the last final exams?\n",
      "\n",
      "Has the student's academic progress improved?\n",
      "\n",
      "What was the student's average in the last internal exams?\n",
      "\n",
      "In which subjects did the student score the highest last year?\n",
      "\n",
      "In which subject did the student score the lowest in the last internals?\n",
      "\n",
      "What are the student's preferred subjects?\n",
      "\n",
      "What subject does the student struggle with?\n",
      "\n",
      "What are some of the student's academic strengths?\n",
      "\n",
      "How does the student prefer to receive feedback?\n",
      "\n",
      "How does the student react to public correction?\n",
      "\n",
      "What motivates the student?\n",
      "\n",
      "How does the student behave in group settings?\n",
      "\n",
      "Does the student have many close friends?\n",
      "\n",
      "How would you describe the student's social skills?\n",
      "\n",
      "What is one piece of feedback a teacher has given the student?\n",
      "\n",
      "What is something the student has expressed about their learning experience?\n",
      "\n",
      "What does the student wish for in science class?\n",
      "\n",
      "What was the student's achievement in the Science Fair?\n",
      "\n",
      "Is the student involved in any sports?\n",
      "\n",
      "What kind of certification does the student have in Robotics?\n",
      "\n",
      "What digital learning apps does the student use?\n",
      "\n",
      "Is the student an engaged online learner?\n",
      "\n",
      "What kind of tech projects does the student build?\n",
      "\n",
      "How would you rate the student's tech savviness?\n",
      "\n",
      "Describe the student's home environment in terms of support for studies.\n",
      "\n",
      "Does the student have internet access at home?\n",
      "\n",
      "What languages does the student know?\n",
      "\n",
      "Tell me a story about the student fixing something at home.\n",
      "\n",
      "What happened when the student helped a classmate in robotics?\n",
      "\n",
      "Describe the \"Digital Detective\" incident involving the student.\n",
      "\n",
      "What does the \"Fan Fixer\" story tell us about the student?\n",
      "\n",
      "How did the student help a classmate in robotics without taking over?\n",
      "\n",
      "What does the Arduino alarm story reveal about the student's skills?\n",
      "\n",
      "Based on the student's interests, what kind of extracurricular activities might they enjoy in the future?\n",
      "\n",
      "Considering the student's learning style, what teaching methods might be most effective for them?\n",
      "\n",
      "How might the student approach a challenging problem in Math, given their strengths?\n",
      "\n",
      "What kind of projects might the student be interested in creating using their tech skills?\n",
      "\n",
      "How might the student's introverted nature influence their participation in class discussions?\n",
      "\n"
     ]
    },
    {
     "name": "stderr",
     "output_type": "stream",
     "text": [
      "<>:1: SyntaxWarning: invalid escape sequence '\\q'\n",
      "<>:1: SyntaxWarning: invalid escape sequence '\\q'\n",
      "C:\\Users\\aryan\\AppData\\Local\\Temp\\ipykernel_13340\\3618982681.py:1: SyntaxWarning: invalid escape sequence '\\q'\n",
      "  with open('data\\questions.txt', 'r') as file:\n"
     ]
    }
   ],
   "source": [
    "with open('data\\questions.txt', 'r') as file:\n",
    "    for line in file.readlines():\n",
    "        print(line)"
   ]
  },
  {
   "cell_type": "code",
   "execution_count": null,
   "id": "ec4201cf",
   "metadata": {},
   "outputs": [],
   "source": []
  }
 ],
 "metadata": {
  "kernelspec": {
   "display_name": "Python 3",
   "language": "python",
   "name": "python3"
  },
  "language_info": {
   "codemirror_mode": {
    "name": "ipython",
    "version": 3
   },
   "file_extension": ".py",
   "mimetype": "text/x-python",
   "name": "python",
   "nbconvert_exporter": "python",
   "pygments_lexer": "ipython3",
   "version": "3.13.2"
  }
 },
 "nbformat": 4,
 "nbformat_minor": 5
}
