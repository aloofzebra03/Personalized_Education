{
 "cells": [
  {
   "cell_type": "code",
   "execution_count": 1,
   "id": "a03e8fe4",
   "metadata": {},
   "outputs": [
    {
     "name": "stderr",
     "output_type": "stream",
     "text": [
      "c:\\micromamba\\envs\\langchain\\Lib\\site-packages\\tqdm\\auto.py:21: TqdmWarning: IProgress not found. Please update jupyter and ipywidgets. See https://ipywidgets.readthedocs.io/en/stable/user_install.html\n",
      "  from .autonotebook import tqdm as notebook_tqdm\n",
      "Fetching 5 files: 100%|██████████| 5/5 [00:00<?, ?it/s]\n"
     ]
    }
   ],
   "source": [
    "import onnx_asr\n",
    "model = onnx_asr.load_model(\"nemo-parakeet-tdt-0.6b-v2\")"
   ]
  },
  {
   "cell_type": "code",
   "execution_count": 14,
   "id": "508639bc",
   "metadata": {},
   "outputs": [],
   "source": [
    "from scipy.io import wavfile\n",
    "import numpy as np\n",
    "\n",
    "def convert_to_mono(input_path, output_path):\n",
    "    sr, data = wavfile.read(input_path)\n",
    "    if len(data.shape) == 2:  # Stereo to mono\n",
    "        data = np.mean(data, axis=1).astype(data.dtype)\n",
    "    wavfile.write(output_path, sr, data)\n",
    "\n",
    "convert_to_mono('Recording.wav', 'Recording_mono.wav')\n"
   ]
  },
  {
   "cell_type": "code",
   "execution_count": 27,
   "id": "cdaee46c",
   "metadata": {},
   "outputs": [],
   "source": [
    "import subprocess\n",
    "\n",
    "ffmpeg_path = r'C:\\micromamba\\envs\\langchain\\Library\\bin\\ffmpeg.exe'\n",
    "\n",
    "def convert_m4a_to_wav_mono(input_path, output_path):\n",
    "    subprocess.run([\n",
    "        ffmpeg_path,\n",
    "        '-i', input_path,\n",
    "        '-ac', '1',  # mono\n",
    "        output_path\n",
    "    ], check=True)\n",
    "\n",
    "convert_m4a_to_wav_mono('Recording.m4a', 'output_mono.wav')\n"
   ]
  },
  {
   "cell_type": "code",
   "execution_count": 28,
   "id": "3f6dcafc",
   "metadata": {},
   "outputs": [
    {
     "name": "stdout",
     "output_type": "stream",
     "text": [
      "Hello, this is a test, testing for Nvidia Parakeet model.\n"
     ]
    }
   ],
   "source": [
    "print(model.recognize(\"output_mono.wav\"))"
   ]
  },
  {
   "cell_type": "code",
   "execution_count": null,
   "id": "f4c40fc9",
   "metadata": {},
   "outputs": [],
   "source": []
  }
 ],
 "metadata": {
  "kernelspec": {
   "display_name": "langchain",
   "language": "python",
   "name": "python3"
  },
  "language_info": {
   "codemirror_mode": {
    "name": "ipython",
    "version": 3
   },
   "file_extension": ".py",
   "mimetype": "text/x-python",
   "name": "python",
   "nbconvert_exporter": "python",
   "pygments_lexer": "ipython3",
   "version": "3.12.11"
  }
 },
 "nbformat": 4,
 "nbformat_minor": 5
}
