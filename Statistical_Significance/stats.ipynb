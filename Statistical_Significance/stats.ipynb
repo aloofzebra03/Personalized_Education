{
 "cells": [
  {
   "cell_type": "code",
   "execution_count": 1,
   "id": "36399b74",
   "metadata": {},
   "outputs": [],
   "source": [
    "import pandas as pd\n",
    "import numpy as np"
   ]
  },
  {
   "cell_type": "code",
   "execution_count": 5,
   "id": "323b6192",
   "metadata": {},
   "outputs": [],
   "source": [
    "df_finetune = pd.read_csv('finetuned_scored_personalization_relevance.csv')\n",
    "df_rag = pd.read_csv('rag_scored_personalization_relevance.csv')"
   ]
  },
  {
   "cell_type": "code",
   "execution_count": 7,
   "id": "fec09ceb",
   "metadata": {},
   "outputs": [
    {
     "data": {
      "text/plain": [
       "Index(['name', 'age', 'class_level', 'syllabus', 'interests', 'personality',\n",
       "       'hobbies', 'learning_style', 'pattern_of_learning',\n",
       "       'study_routine_start', 'study_routine_end', 'preferred_subjects',\n",
       "       'struggles_with', 'strengths', 'challenges', 'academic_progress',\n",
       "       'marks_last_year_final', 'marks_last_internals', 'emotional_traits',\n",
       "       'motivation_style', 'group_behavior', 'social_skills',\n",
       "       'teacher_feedback', 'student_voice', 'accomplishments',\n",
       "       'digital_learning', 'tech_savviness', 'home_environment',\n",
       "       'interesting_stories', 'personalization_score',\n",
       "       'personalization_explanation', 'relevance_score',\n",
       "       'relevance_explanation'],\n",
       "      dtype='object')"
      ]
     },
     "execution_count": 7,
     "metadata": {},
     "output_type": "execute_result"
    }
   ],
   "source": [
    "df_finetune.columns"
   ]
  },
  {
   "cell_type": "code",
   "execution_count": 8,
   "id": "ed8f93e6",
   "metadata": {},
   "outputs": [],
   "source": [
    "finetune_scores_per = np.array(df_finetune['personalization_score'])  \n",
    "rag_scores_per       = np.array(df_rag['personalization_score'])\n",
    "finetune_scores_rel = np.array(df_finetune['relevance_score'])   \n",
    "rag_scores_rel       = np.array(df_rag['relevance_score'])\n"
   ]
  },
  {
   "cell_type": "code",
   "execution_count": 10,
   "id": "7e798fb6",
   "metadata": {},
   "outputs": [
    {
     "name": "stdout",
     "output_type": "stream",
     "text": [
      "Shapiro p-value for personalization: 3.303840517710954e-05\n",
      "Shapiro p-value for relevance: 2.4024304785361146e-10\n"
     ]
    }
   ],
   "source": [
    "from scipy.stats import shapiro\n",
    "\n",
    "stat1, p_shapiro1 = shapiro((finetune_scores_per - rag_scores_per))\n",
    "print(\"Shapiro p-value for personalization:\", p_shapiro1)\n",
    "stat2, p_shapiro2 = shapiro((finetune_scores_rel - rag_scores_rel))\n",
    "print(\"Shapiro p-value for relevance:\", p_shapiro2)\n",
    "\n"
   ]
  },
  {
   "cell_type": "code",
   "execution_count": 11,
   "id": "4bbfecdb",
   "metadata": {},
   "outputs": [],
   "source": [
    "from scipy.stats import ttest_rel, wilcoxon\n",
    "\n",
    "alpha = 0.05\n",
    "def test_significance(p_shapiro, finetune_scores, rag_scores):\n",
    "    if p_shapiro > alpha:\n",
    "        stat, p_val = ttest_rel(finetune_scores, rag_scores)\n",
    "        test_name = \"paired t-test\"\n",
    "    else:\n",
    "        stat, p_val = wilcoxon(finetune_scores, rag_scores)\n",
    "        test_name = \"Wilcoxon signed-rank\"\n",
    "\n",
    "    print(f\"{test_name}: statistic={stat:.3f}, p-value={p_val:.4f}\")\n",
    "    if p_val < alpha:\n",
    "        print(\"⇒ Reject H₀: the mean/median difference is significant.\")\n",
    "    else:\n",
    "        print(\"⇒ Fail to reject H₀: no significant difference found.\")\n"
   ]
  },
  {
   "cell_type": "code",
   "execution_count": 13,
   "id": "b4f1a0db",
   "metadata": {},
   "outputs": [
    {
     "name": "stdout",
     "output_type": "stream",
     "text": [
      "Personalization Score:\n",
      "Wilcoxon signed-rank: statistic=71.500, p-value=0.0000\n",
      "⇒ Reject H₀: the mean/median difference is significant.\n",
      "Relevance Score:\n",
      "Wilcoxon signed-rank: statistic=135.000, p-value=0.2608\n",
      "⇒ Fail to reject H₀: no significant difference found.\n"
     ]
    }
   ],
   "source": [
    "print(\"Personalization Score:\")\n",
    "test_significance(p_shapiro1, finetune_scores_per, rag_scores_per)\n",
    "print(\"Relevance Score:\")\n",
    "test_significance(p_shapiro2, finetune_scores_rel, rag_scores_rel)"
   ]
  },
  {
   "cell_type": "code",
   "execution_count": 14,
   "id": "e4731d71",
   "metadata": {},
   "outputs": [
    {
     "name": "stdout",
     "output_type": "stream",
     "text": [
      "Cohen's d for Personalization: -0.575678471763037\n",
      "Cohen's d for Relevance: 0.0\n"
     ]
    }
   ],
   "source": [
    "def find_cohen(diffs):\n",
    "    import numpy as np\n",
    "    mean_diff = np.mean(diffs)\n",
    "    sd_diff   = np.std(diffs, ddof=1)\n",
    "    cohens_d  = mean_diff / sd_diff\n",
    "    return cohens_d\n",
    "\n",
    "print(\"Cohen's d for Personalization:\", find_cohen(finetune_scores_per - rag_scores_per))\n",
    "print(\"Cohen's d for Relevance:\", find_cohen(finetune_scores_rel - rag_scores_rel))\n"
   ]
  },
  {
   "cell_type": "code",
   "execution_count": 17,
   "id": "9a931a29",
   "metadata": {},
   "outputs": [
    {
     "name": "stdout",
     "output_type": "stream",
     "text": [
      "95% CI for Cohen's d for personalization: [-0.94, -0.28]\n",
      "95% CI for Cohen's d for relevance: [-0.45, 0.21]\n"
     ]
    }
   ],
   "source": [
    "def find_CI(diffs):\n",
    "    boot_ds = []\n",
    "    for _ in range(5000):\n",
    "        sample = np.random.choice(diffs, size=len(diffs), replace=True)\n",
    "        mean_diff = sample.mean()\n",
    "        sd_diff   = sample.std(ddof=1)\n",
    "        boot_ds.append(mean_diff/sd_diff if sd_diff>0 else 0)\n",
    "\n",
    "    ci_low, ci_high = np.percentile(boot_ds, [2.5, 97.5])\n",
    "    return ci_low, ci_high\n",
    "\n",
    "diiffs_per = finetune_scores_per - rag_scores_per\n",
    "diiffs_rel = finetune_scores_rel - rag_scores_rel\n",
    "ci_low, ci_high = find_CI(diiffs_per)\n",
    "print(f\"95% CI for Cohen's d for personalization: [{ci_low:.2f}, {ci_high:.2f}]\")\n",
    "ci_low, ci_high = find_CI(diiffs_rel)\n",
    "print(f\"95% CI for Cohen's d for relevance: [{ci_low:.2f}, {ci_high:.2f}]\")\n"
   ]
  },
  {
   "cell_type": "code",
   "execution_count": null,
   "id": "40c1dd7c",
   "metadata": {},
   "outputs": [],
   "source": []
  }
 ],
 "metadata": {
  "kernelspec": {
   "display_name": "Python 3",
   "language": "python",
   "name": "python3"
  },
  "language_info": {
   "codemirror_mode": {
    "name": "ipython",
    "version": 3
   },
   "file_extension": ".py",
   "mimetype": "text/x-python",
   "name": "python",
   "nbconvert_exporter": "python",
   "pygments_lexer": "ipython3",
   "version": "3.13.2"
  }
 },
 "nbformat": 4,
 "nbformat_minor": 5
}
