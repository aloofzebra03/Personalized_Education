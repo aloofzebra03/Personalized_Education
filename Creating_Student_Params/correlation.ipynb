{
 "cells": [
  {
   "cell_type": "code",
   "execution_count": 1,
   "id": "10342c54",
   "metadata": {},
   "outputs": [
    {
     "name": "stdout",
     "output_type": "stream",
     "text": [
      "No of numeric columns: 27\n",
      "Numeric columns detected:\n",
      " ['conceptual_clarity_level', 'attention_span_category', 'retention_strength', 'problem_solving_speed_sec', 'growth_slope', 'response_to_feedback', 'revisions_per_week', 'days_between_revisions', 'question_asking_nature', 'self_assessment_accuracy', 'exploration_tendency', 'teacher_relationship_quality', 'peer_learning_behavior', 'communication_clarity', 'discussion_engagement', 'test_anxiety_level', 'resilience_after_failure', 'motivation_intrinsic_vs_extrinsic', 'achievement_orientation', 'emotional_self_awareness', 'device_access_type', 'digital_distraction_level', 'study_space_quality', 'academic_pressure_at_home', 'family_responsibilities_hrs', 'support_system_strength', 'metacognitive_skill_level'] \n",
      "\n",
      "Stage A: Numeric-Only Screening,number of high correlation pairs: 45\n",
      "Stage A: Highly correlated numeric column pairs (|ρ| > 0.99):\n",
      "  - attention_span_category and question_asking_nature: correlation = 1.00\n",
      "  - attention_span_category and peer_learning_behavior: correlation = 1.00\n",
      "  - attention_span_category and achievement_orientation: correlation = 1.00\n",
      "  - attention_span_category and study_space_quality: correlation = 0.99\n",
      "  - attention_span_category and support_system_strength: correlation = 1.00\n",
      "  - response_to_feedback and teacher_relationship_quality: correlation = 1.00\n",
      "  - response_to_feedback and communication_clarity: correlation = 0.99\n",
      "  - response_to_feedback and motivation_intrinsic_vs_extrinsic: correlation = 1.00\n",
      "  - response_to_feedback and study_space_quality: correlation = 0.99\n",
      "  - question_asking_nature and peer_learning_behavior: correlation = 1.00\n",
      "  - question_asking_nature and achievement_orientation: correlation = 1.00\n",
      "  - question_asking_nature and study_space_quality: correlation = 0.99\n",
      "  - question_asking_nature and support_system_strength: correlation = 1.00\n",
      "  - exploration_tendency and discussion_engagement: correlation = 0.99\n",
      "  - exploration_tendency and test_anxiety_level: correlation = 0.99\n",
      "  - exploration_tendency and digital_distraction_level: correlation = 0.99\n",
      "  - exploration_tendency and academic_pressure_at_home: correlation = 0.99\n",
      "  - exploration_tendency and metacognitive_skill_level: correlation = 0.99\n",
      "  - teacher_relationship_quality and communication_clarity: correlation = 0.99\n",
      "  - teacher_relationship_quality and motivation_intrinsic_vs_extrinsic: correlation = 1.00\n",
      "  - teacher_relationship_quality and study_space_quality: correlation = 0.99\n",
      "  - peer_learning_behavior and achievement_orientation: correlation = 1.00\n",
      "  - peer_learning_behavior and study_space_quality: correlation = 0.99\n",
      "  - peer_learning_behavior and support_system_strength: correlation = 1.00\n",
      "  - communication_clarity and emotional_self_awareness: correlation = 1.00\n",
      "  - discussion_engagement and test_anxiety_level: correlation = 1.00\n",
      "  - discussion_engagement and resilience_after_failure: correlation = 0.99\n",
      "  - discussion_engagement and digital_distraction_level: correlation = 1.00\n",
      "  - discussion_engagement and academic_pressure_at_home: correlation = 1.00\n",
      "  - discussion_engagement and metacognitive_skill_level: correlation = 1.00\n",
      "  - test_anxiety_level and resilience_after_failure: correlation = 1.00\n",
      "  - test_anxiety_level and digital_distraction_level: correlation = 1.00\n",
      "  - test_anxiety_level and academic_pressure_at_home: correlation = 1.00\n",
      "  - test_anxiety_level and metacognitive_skill_level: correlation = 1.00\n",
      "  - resilience_after_failure and digital_distraction_level: correlation = 1.00\n",
      "  - resilience_after_failure and academic_pressure_at_home: correlation = 1.00\n",
      "  - resilience_after_failure and metacognitive_skill_level: correlation = 1.00\n",
      "  - motivation_intrinsic_vs_extrinsic and study_space_quality: correlation = 0.99\n",
      "  - achievement_orientation and study_space_quality: correlation = 0.99\n",
      "  - achievement_orientation and support_system_strength: correlation = 1.00\n",
      "  - device_access_type and study_space_quality: correlation = 0.99\n",
      "  - digital_distraction_level and academic_pressure_at_home: correlation = 1.00\n",
      "  - digital_distraction_level and metacognitive_skill_level: correlation = 1.00\n",
      "  - study_space_quality and support_system_strength: correlation = 0.99\n",
      "  - academic_pressure_at_home and metacognitive_skill_level: correlation = 1.00\n",
      "\n"
     ]
    }
   ],
   "source": [
    "import pandas as pd\n",
    "import numpy as np\n",
    "import ast\n",
    "import matplotlib.pyplot as plt\n",
    "import seaborn as sns\n",
    "from itertools import combinations\n",
    "from sklearn.preprocessing import StandardScaler\n",
    "from statsmodels.stats.outliers_influence import variance_inflation_factor\n",
    "\n",
    "# -----------------------------\n",
    "# Stage A: Numeric-Only Screening\n",
    "# -----------------------------\n",
    "\n",
    "# 1) Load the raw data\n",
    "df_raw = pd.read_csv('output/langchain_student_params_1500.csv')\n",
    "\n",
    "# 2) Identify purely numeric columns\n",
    "numeric_cols = df_raw.select_dtypes(include=[np.number]).columns.tolist()\n",
    "print('No of numeric columns:', len(numeric_cols))\n",
    "print(\"Numeric columns detected:\\n\", numeric_cols, \"\\n\")\n",
    "\n",
    "# 3) Compute pairwise correlation among numeric columns\n",
    "corr_numeric = df_raw[numeric_cols].corr().abs()\n",
    "upper_tri_numeric = corr_numeric.where(np.triu(np.ones(corr_numeric.shape), k=1).astype(bool))\n",
    "\n",
    "# Define a correlation threshold for \"high correlation\"\n",
    "corr_threshold = 0.99\n",
    "\n",
    "high_corr_pairs_numeric = [\n",
    "    (c1, c2, upper_tri_numeric.loc[c1, c2])\n",
    "    for c1, c2 in combinations(numeric_cols, 2)\n",
    "    if upper_tri_numeric.loc[c1, c2] > corr_threshold\n",
    "]\n",
    "\n",
    "# Display high-correlation pairs\n",
    "print(\"Stage A: Numeric-Only Screening,number of high correlation pairs:\", len(high_corr_pairs_numeric))\n",
    "print(\"Stage A: Highly correlated numeric column pairs (|ρ| > {}):\".format(corr_threshold))\n",
    "for col1, col2, corr_val in high_corr_pairs_numeric:\n",
    "    print(f\"  - {col1} and {col2}: correlation = {corr_val:.2f}\")\n",
    "if not high_corr_pairs_numeric:\n",
    "    print(\"  None found.\\n\")\n",
    "else:\n",
    "    print()\n"
   ]
  },
  {
   "cell_type": "code",
   "execution_count": 7,
   "id": "05f8ff43",
   "metadata": {},
   "outputs": [
    {
     "name": "stdout",
     "output_type": "stream",
     "text": [
      "\n",
      "Stage A: Columns retained after user drop:\n",
      " ['conceptual_clarity_level', 'retention_strength', 'problem_solving_speed_sec', 'growth_slope', 'revisions_per_week', 'days_between_revisions', 'self_assessment_accuracy', 'achievement_orientation', 'emotional_self_awareness', 'device_access_type', 'family_responsibilities_hrs', 'support_system_strength', 'metacognitive_skill_level'] \n",
      "\n",
      "No of numeric columns retained: 13\n"
     ]
    }
   ],
   "source": [
    "\n",
    "# 4) Prompt user to select numeric columns to drop based on the above list\n",
    "drop_list_A = ['attention_span_category','response_to_feedback','question_asking_nature','exploration_tendency','teacher_relationship_quality','peer_learning_behavior','communication_clarity','discussion_engagement','test_anxiety_level','resilience_after_failure','motivation_intrinsic_vs_extrinsic','achievement_orientation''device_access_type','digital_distraction_level','study_space_quality','academic_pressure_at_home']\n",
    "# if to_drop_numeric:\n",
    "#     drop_list_A = [col.strip() for col in to_drop_numeric.split(',') if col.strip() in numeric_cols]\n",
    "# else:\n",
    "# drop_list_A = []\n",
    "\n",
    "good_numeric_cols = [c for c in numeric_cols if c not in drop_list_A]\n",
    "print(\"\\nStage A: Columns retained after user drop:\\n\", good_numeric_cols, \"\\n\")\n",
    "print('No of numeric columns retained:', len(good_numeric_cols))\n"
   ]
  },
  {
   "cell_type": "code",
   "execution_count": 8,
   "id": "c9208ecc",
   "metadata": {},
   "outputs": [
    {
     "name": "stdout",
     "output_type": "stream",
     "text": [
      "Stage A – Iteration 1: Dropping 'support_system_strength' with VIF = 274.09\n",
      "Stage A – Iteration 2: Dropping 'emotional_self_awareness' with VIF = 101.32\n",
      "Stage A – Iteration 3: Dropping 'self_assessment_accuracy' with VIF = 85.29\n",
      "Stage A – Iteration 4: Dropping 'growth_slope' with VIF = 56.52\n",
      "Stage A – Iteration 5: Dropping 'device_access_type' with VIF = 40.18\n",
      "Stage A – Iteration 6: Dropping 'achievement_orientation' with VIF = 35.93\n",
      "Stage A – Iteration 7: Dropping 'problem_solving_speed_sec' with VIF = 28.66\n",
      "Stage A – Iteration 8: Dropping 'revisions_per_week' with VIF = 21.50\n",
      "Stage A – Iteration 9: Dropping 'days_between_revisions' with VIF = 17.40\n",
      "\n",
      "Stage A: Final numeric columns after VIF filtering:\n",
      " ['conceptual_clarity_level', 'retention_strength', 'family_responsibilities_hrs', 'metacognitive_skill_level'] \n",
      "\n",
      "No of numeric columns after VIF filtering: 4\n"
     ]
    }
   ],
   "source": [
    "\n",
    "# 5) Compute VIF iteratively on the retained numeric columns\n",
    "df_numeric_stageA = df_raw[good_numeric_cols].copy()\n",
    "scaler_A = StandardScaler()\n",
    "X_scaled_A = scaler_A.fit_transform(df_numeric_stageA)\n",
    "df_scaled_A = pd.DataFrame(X_scaled_A, columns=good_numeric_cols)\n",
    "\n",
    "def compute_vif(df_features):\n",
    "    vif_data = pd.DataFrame()\n",
    "    vif_data['feature'] = df_features.columns\n",
    "    vif_data['VIF'] = [\n",
    "        variance_inflation_factor(df_features.values, i)\n",
    "        for i in range(df_features.shape[1])\n",
    "    ]\n",
    "    return vif_data\n",
    "\n",
    "vif_threshold = 10.0\n",
    "iteration = 1\n",
    "\n",
    "while True:\n",
    "    vif_df_A = compute_vif(df_scaled_A[good_numeric_cols])\n",
    "    high_vif_A = vif_df_A[vif_df_A['VIF'] > vif_threshold]\n",
    "    if high_vif_A.empty:\n",
    "        break\n",
    "    # Identify feature with the highest VIF\n",
    "    feature_to_drop = high_vif_A.sort_values(by='VIF', ascending=False).iloc[0]['feature']\n",
    "    max_vif_val = high_vif_A.sort_values(by='VIF', ascending=False).iloc[0]['VIF']\n",
    "    print(f\"Stage A – Iteration {iteration}: Dropping '{feature_to_drop}' with VIF = {max_vif_val:.2f}\")\n",
    "    good_numeric_cols.remove(feature_to_drop)\n",
    "    iteration += 1\n",
    "\n",
    "print(\"\\nStage A: Final numeric columns after VIF filtering:\\n\", good_numeric_cols, \"\\n\")\n",
    "print('No of numeric columns after VIF filtering:', len(good_numeric_cols))"
   ]
  },
  {
   "cell_type": "code",
   "execution_count": 4,
   "id": "854b62bf",
   "metadata": {},
   "outputs": [
    {
     "name": "stdout",
     "output_type": "stream",
     "text": [
      "Stage B: Candidate feature set (numeric + dummies):\n",
      " ['conceptual_clarity_level', 'retention_strength', 'resilience_after_failure', 'family_responsibilities_hrs', 'error_pattern_careless', 'error_pattern_conceptual', 'input_method_preference_voice', 'input_method_preference_writing', 'highest_academic_level_high_school', 'highest_academic_level_master', 'highest_academic_level_middle_school', 'highest_academic_level_none', 'highest_academic_level_phd', 'highest_academic_level_primary_school', 'method_active_recall', 'method_spaced_repetition', 'method_flashcards', 'method_practice_tests', 'method_summarization', 'method_group_study', 'method_mnemonics', 'app_Brilliant', 'app_StackOverflow', 'app_YouTube', 'app_Edpuzzle', 'app_Wikipedia', 'app_Coursera', 'app_Edmodo', 'app_Duolingo', 'app_Quizlet', 'app_Overleaf', 'app_Notion', 'app_Anki', 'app_KhanAcademy', 'app_Brainly', 'content_video', 'content_simulation', 'content_gamified', 'content_text', 'content_practice_tests', 'node_Candle_Clock', 'node_Sundial', 'node_SI_Unit_of_Time', 'node_Speed', 'node_Simple_Pendulum', 'node_Non-uniform_Linear_Motion', 'node_Hourglass', 'node_Uniform_Linear_Motion', 'node_Time_Period_of_Pendulum', 'node_Water_Clock'] \n",
      "\n",
      "No of candidate columns: 50\n",
      "Stage B: Highly correlated feature pairs (|ρ| > 0.99):\n",
      "Stage B: Number of high correlation pairs: 38\n",
      "  - error_pattern_careless and method_practice_tests: correlation = 1.00\n",
      "  - error_pattern_careless and node_Uniform_Linear_Motion: correlation = 1.00\n",
      "  - error_pattern_conceptual and input_method_preference_voice: correlation = 1.00\n",
      "  - error_pattern_conceptual and highest_academic_level_none: correlation = 0.99\n",
      "  - error_pattern_conceptual and app_Wikipedia: correlation = 0.99\n",
      "  - error_pattern_conceptual and node_Water_Clock: correlation = 1.00\n",
      "  - input_method_preference_voice and highest_academic_level_none: correlation = 0.99\n",
      "  - input_method_preference_voice and app_Wikipedia: correlation = 0.99\n",
      "  - input_method_preference_voice and node_Water_Clock: correlation = 1.00\n",
      "  - input_method_preference_writing and highest_academic_level_primary_school: correlation = 0.99\n",
      "  - highest_academic_level_high_school and content_practice_tests: correlation = 1.00\n",
      "  - highest_academic_level_none and app_Wikipedia: correlation = 1.00\n",
      "  - highest_academic_level_none and node_Water_Clock: correlation = 0.99\n",
      "  - highest_academic_level_phd and content_gamified: correlation = 1.00\n",
      "  - method_flashcards and app_Quizlet: correlation = 1.00\n",
      "  - method_practice_tests and node_Uniform_Linear_Motion: correlation = 1.00\n",
      "  - app_Wikipedia and node_Water_Clock: correlation = 0.99\n",
      "  - content_text and node_Candle_Clock: correlation = 1.00\n",
      "  - content_text and node_SI_Unit_of_Time: correlation = 1.00\n",
      "  - content_text and node_Speed: correlation = 1.00\n",
      "  - content_text and node_Simple_Pendulum: correlation = 1.00\n",
      "  - content_text and node_Hourglass: correlation = 1.00\n",
      "  - content_text and node_Time_Period_of_Pendulum: correlation = 1.00\n",
      "  - node_Candle_Clock and node_SI_Unit_of_Time: correlation = 1.00\n",
      "  - node_Candle_Clock and node_Speed: correlation = 1.00\n",
      "  - node_Candle_Clock and node_Simple_Pendulum: correlation = 1.00\n",
      "  - node_Candle_Clock and node_Hourglass: correlation = 1.00\n",
      "  - node_Candle_Clock and node_Time_Period_of_Pendulum: correlation = 1.00\n",
      "  - node_SI_Unit_of_Time and node_Speed: correlation = 1.00\n",
      "  - node_SI_Unit_of_Time and node_Simple_Pendulum: correlation = 1.00\n",
      "  - node_SI_Unit_of_Time and node_Hourglass: correlation = 1.00\n",
      "  - node_SI_Unit_of_Time and node_Time_Period_of_Pendulum: correlation = 1.00\n",
      "  - node_Speed and node_Simple_Pendulum: correlation = 1.00\n",
      "  - node_Speed and node_Hourglass: correlation = 1.00\n",
      "  - node_Speed and node_Time_Period_of_Pendulum: correlation = 1.00\n",
      "  - node_Simple_Pendulum and node_Hourglass: correlation = 1.00\n",
      "  - node_Simple_Pendulum and node_Time_Period_of_Pendulum: correlation = 1.00\n",
      "  - node_Hourglass and node_Time_Period_of_Pendulum: correlation = 1.00\n",
      "\n"
     ]
    }
   ],
   "source": [
    "\n",
    "# -----------------------------\n",
    "# Stage B: One-Hot Encode + Full Collinearity Check\n",
    "# -----------------------------\n",
    "\n",
    "# 6) Start from the original DataFrame again\n",
    "df_stageB = df_raw.copy()\n",
    "\n",
    "# Define single-choice Literal columns and list-of-options columns\n",
    "single_choice_literal_cols = [\n",
    "    'error_pattern',\n",
    "    'input_method_preference',\n",
    "    'highest_academic_level'\n",
    "]\n",
    "list_of_options_cols = [\n",
    "    'method_of_revision',\n",
    "    'preferred_edtech_apps',\n",
    "    'content_type_preference',\n",
    "    'knowledge_graph_nodes_covered'\n",
    "]\n",
    "\n",
    "# 7) One-Hot encode single-choice literals (dropping first level)\n",
    "df_stageB = pd.get_dummies(df_stageB, columns=single_choice_literal_cols, drop_first=True)\n",
    "\n",
    "# 8) Parse and multi-hot encode List-of-options columns\n",
    "# We'll use ast.literal_eval to convert string representations of lists into actual lists.\n",
    "for col in list_of_options_cols:\n",
    "    # Convert string to Python list if necessary\n",
    "    df_stageB[col] = df_stageB[col].apply(lambda x: ast.literal_eval(x) if isinstance(x, str) else x)\n",
    "\n",
    "# method_of_revision\n",
    "revision_methods = [\n",
    "    'active_recall',\n",
    "    'spaced_repetition',\n",
    "    'flashcards',\n",
    "    'practice_tests',\n",
    "    'summarization',\n",
    "    'group_study',\n",
    "    'mnemonics'\n",
    "]\n",
    "for method in revision_methods:\n",
    "    df_stageB[f\"method_{method}\"] = df_stageB['method_of_revision'].apply(lambda lst: 1 if method in lst else 0)\n",
    "df_stageB.drop(columns=['method_of_revision'], inplace=True)\n",
    "\n",
    "# preferred_edtech_apps (you can keep all or select top N; here we'll encode all unique values)\n",
    "unique_apps = set(app for sublist in df_stageB['preferred_edtech_apps'] if isinstance(sublist, list) for app in sublist)\n",
    "for app in unique_apps:\n",
    "    df_stageB[f\"app_{app}\"] = df_stageB['preferred_edtech_apps'].apply(lambda lst: 1 if app in lst else 0)\n",
    "df_stageB.drop(columns=['preferred_edtech_apps'], inplace=True)\n",
    "\n",
    "# content_type_preference\n",
    "unique_content_types = set(ct for sublist in df_stageB['content_type_preference'] if isinstance(sublist, list) for ct in sublist)\n",
    "for ct in unique_content_types:\n",
    "    df_stageB[f\"content_{ct}\"] = df_stageB['content_type_preference'].apply(lambda lst: 1 if ct in lst else 0)\n",
    "df_stageB.drop(columns=['content_type_preference'], inplace=True)\n",
    "\n",
    "# knowledge_graph_nodes_covered\n",
    "unique_nodes = set(\n",
    "    node for sublist in df_stageB['knowledge_graph_nodes_covered'] if isinstance(sublist, list) for node in sublist\n",
    ")\n",
    "for node in unique_nodes:\n",
    "    df_stageB[f\"node_{node.replace(' ', '_')}\"] = df_stageB['knowledge_graph_nodes_covered'].apply(lambda lst: 1 if node in lst else 0)\n",
    "df_stageB.drop(columns=['knowledge_graph_nodes_covered'], inplace=True)\n",
    "\n",
    "# 9) Combine good_numeric_cols with all dummy columns we just created\n",
    "all_candidate_cols = good_numeric_cols + [c for c in df_stageB.columns if c not in df_raw.columns or c.startswith(('error_pattern_','input_method_','highest_academic_level_','method_','app_','content_','node_'))]\n",
    "print(\"Stage B: Candidate feature set (numeric + dummies):\\n\", all_candidate_cols, \"\\n\")\n",
    "print('No of candidate columns:', len(all_candidate_cols))\n",
    "# 10) Compute pairwise correlation on the full set\n",
    "corr_full = df_stageB[all_candidate_cols].corr().abs()\n",
    "upper_tri_full = corr_full.where(np.triu(np.ones(corr_full.shape), k=1).astype(bool))\n",
    "\n",
    "corr_threshold = 0.99\n",
    "\n",
    "high_corr_pairs_full = [\n",
    "    (c1, c2, upper_tri_full.loc[c1, c2])\n",
    "    for c1, c2 in combinations(all_candidate_cols, 2)\n",
    "    if upper_tri_full.loc[c1, c2] > corr_threshold\n",
    "]\n",
    "\n",
    "# Display high-correlation pairs in Stage B\n",
    "print(\"Stage B: Highly correlated feature pairs (|ρ| > {}):\".format(corr_threshold))\n",
    "print(\"Stage B: Number of high correlation pairs:\", len(high_corr_pairs_full))\n",
    "for col1, col2, corr_val in high_corr_pairs_full:\n",
    "    print(f\"  - {col1} and {col2}: correlation = {corr_val:.2f}\")\n",
    "if not high_corr_pairs_full:\n",
    "    print(\"  None found.\\n\")\n",
    "else:\n",
    "    print()\n"
   ]
  },
  {
   "cell_type": "code",
   "execution_count": 5,
   "id": "243de536",
   "metadata": {},
   "outputs": [
    {
     "name": "stdout",
     "output_type": "stream",
     "text": [
      "\n",
      "Stage B: Columns retained after user drop:\n",
      " ['conceptual_clarity_level', 'retention_strength', 'resilience_after_failure', 'family_responsibilities_hrs', 'highest_academic_level_high_school', 'highest_academic_level_master', 'highest_academic_level_middle_school', 'highest_academic_level_none', 'highest_academic_level_phd', 'highest_academic_level_primary_school', 'method_active_recall', 'method_spaced_repetition', 'method_flashcards', 'method_practice_tests', 'method_summarization', 'method_group_study', 'method_mnemonics', 'app_Brilliant', 'app_StackOverflow', 'app_YouTube', 'app_Edpuzzle', 'app_Wikipedia', 'app_Coursera', 'app_Edmodo', 'app_Duolingo', 'app_Quizlet', 'app_Overleaf', 'app_Notion', 'app_Anki', 'app_KhanAcademy', 'app_Brainly', 'content_video', 'content_simulation', 'content_gamified', 'content_practice_tests', 'node_Candle_Clock', 'node_Sundial', 'node_SI_Unit_of_Time', 'node_Speed', 'node_Simple_Pendulum', 'node_Non-uniform_Linear_Motion', 'node_Hourglass', 'node_Uniform_Linear_Motion', 'node_Time_Period_of_Pendulum', 'node_Water_Clock'] \n",
      "\n",
      "No of columns retained after user drop: 45\n"
     ]
    }
   ],
   "source": [
    "\n",
    "# 11) Prompt user to select columns to drop in Stage B\n",
    "# to_drop_full = input(\n",
    "#     \"Stage B: Enter comma-separated columns to drop (numeric or dummy) based on above list (or press Enter to keep all):\\n\"\n",
    "# ).strip()\n",
    "# if to_drop_full:\n",
    "#     drop_list_B = [col.strip() for col in to_drop_full.split(',') if col.strip() in all_candidate_cols]\n",
    "# else:\n",
    "#     drop_list_B = []\n",
    "drop_list_B = ['error_pattern_careless','error_pattern_conceptual','input_method_preference_voice','input_method_preference_writing','content_text','']\n",
    "#All with correlation 1 will be handled by vif later\n",
    "good_full_cols = [c for c in all_candidate_cols if c not in drop_list_B]\n",
    "print(\"\\nStage B: Columns retained after user drop:\\n\", good_full_cols, \"\\n\")\n",
    "print('No of columns retained after user drop:', len(good_full_cols))\n"
   ]
  },
  {
   "cell_type": "code",
   "execution_count": 6,
   "id": "ec3f351c",
   "metadata": {},
   "outputs": [
    {
     "name": "stderr",
     "output_type": "stream",
     "text": [
      "c:\\micromamba\\envs\\ml\\lib\\site-packages\\statsmodels\\stats\\outliers_influence.py:197: RuntimeWarning: divide by zero encountered in scalar divide\n",
      "  vif = 1. / (1. - r_squared_i)\n",
      "c:\\micromamba\\envs\\ml\\lib\\site-packages\\statsmodels\\regression\\linear_model.py:1784: RuntimeWarning: invalid value encountered in scalar divide\n",
      "  return 1 - self.ssr/self.uncentered_tss\n",
      "c:\\micromamba\\envs\\ml\\lib\\site-packages\\statsmodels\\stats\\outliers_influence.py:197: RuntimeWarning: divide by zero encountered in scalar divide\n",
      "  vif = 1. / (1. - r_squared_i)\n"
     ]
    },
    {
     "name": "stdout",
     "output_type": "stream",
     "text": [
      "Stage B – Iteration 1: Dropping 'node_Water_Clock' with VIF = inf\n",
      "Stage B – Iteration 2: Dropping 'node_Time_Period_of_Pendulum' with VIF = inf\n"
     ]
    },
    {
     "name": "stderr",
     "output_type": "stream",
     "text": [
      "c:\\micromamba\\envs\\ml\\lib\\site-packages\\statsmodels\\regression\\linear_model.py:1784: RuntimeWarning: invalid value encountered in scalar divide\n",
      "  return 1 - self.ssr/self.uncentered_tss\n",
      "c:\\micromamba\\envs\\ml\\lib\\site-packages\\statsmodels\\stats\\outliers_influence.py:197: RuntimeWarning: divide by zero encountered in scalar divide\n",
      "  vif = 1. / (1. - r_squared_i)\n",
      "c:\\micromamba\\envs\\ml\\lib\\site-packages\\statsmodels\\regression\\linear_model.py:1784: RuntimeWarning: invalid value encountered in scalar divide\n",
      "  return 1 - self.ssr/self.uncentered_tss\n",
      "c:\\micromamba\\envs\\ml\\lib\\site-packages\\statsmodels\\stats\\outliers_influence.py:197: RuntimeWarning: divide by zero encountered in scalar divide\n",
      "  vif = 1. / (1. - r_squared_i)\n",
      "c:\\micromamba\\envs\\ml\\lib\\site-packages\\statsmodels\\regression\\linear_model.py:1784: RuntimeWarning: invalid value encountered in scalar divide\n",
      "  return 1 - self.ssr/self.uncentered_tss\n"
     ]
    },
    {
     "name": "stdout",
     "output_type": "stream",
     "text": [
      "Stage B – Iteration 3: Dropping 'node_Uniform_Linear_Motion' with VIF = inf\n",
      "Stage B – Iteration 4: Dropping 'node_Hourglass' with VIF = inf\n"
     ]
    },
    {
     "name": "stderr",
     "output_type": "stream",
     "text": [
      "c:\\micromamba\\envs\\ml\\lib\\site-packages\\statsmodels\\stats\\outliers_influence.py:197: RuntimeWarning: divide by zero encountered in scalar divide\n",
      "  vif = 1. / (1. - r_squared_i)\n",
      "c:\\micromamba\\envs\\ml\\lib\\site-packages\\statsmodels\\regression\\linear_model.py:1784: RuntimeWarning: invalid value encountered in scalar divide\n",
      "  return 1 - self.ssr/self.uncentered_tss\n",
      "c:\\micromamba\\envs\\ml\\lib\\site-packages\\statsmodels\\stats\\outliers_influence.py:197: RuntimeWarning: divide by zero encountered in scalar divide\n",
      "  vif = 1. / (1. - r_squared_i)\n"
     ]
    },
    {
     "name": "stdout",
     "output_type": "stream",
     "text": [
      "Stage B – Iteration 5: Dropping 'node_SI_Unit_of_Time' with VIF = inf\n",
      "Stage B – Iteration 6: Dropping 'node_Candle_Clock' with VIF = inf\n"
     ]
    },
    {
     "name": "stderr",
     "output_type": "stream",
     "text": [
      "c:\\micromamba\\envs\\ml\\lib\\site-packages\\statsmodels\\regression\\linear_model.py:1784: RuntimeWarning: invalid value encountered in scalar divide\n",
      "  return 1 - self.ssr/self.uncentered_tss\n",
      "c:\\micromamba\\envs\\ml\\lib\\site-packages\\statsmodels\\stats\\outliers_influence.py:197: RuntimeWarning: divide by zero encountered in scalar divide\n",
      "  vif = 1. / (1. - r_squared_i)\n",
      "c:\\micromamba\\envs\\ml\\lib\\site-packages\\statsmodels\\regression\\linear_model.py:1784: RuntimeWarning: invalid value encountered in scalar divide\n",
      "  return 1 - self.ssr/self.uncentered_tss\n",
      "c:\\micromamba\\envs\\ml\\lib\\site-packages\\statsmodels\\stats\\outliers_influence.py:197: RuntimeWarning: divide by zero encountered in scalar divide\n",
      "  vif = 1. / (1. - r_squared_i)\n",
      "c:\\micromamba\\envs\\ml\\lib\\site-packages\\statsmodels\\regression\\linear_model.py:1784: RuntimeWarning: invalid value encountered in scalar divide\n",
      "  return 1 - self.ssr/self.uncentered_tss\n",
      "c:\\micromamba\\envs\\ml\\lib\\site-packages\\statsmodels\\stats\\outliers_influence.py:197: RuntimeWarning: divide by zero encountered in scalar divide\n",
      "  vif = 1. / (1. - r_squared_i)\n"
     ]
    },
    {
     "name": "stdout",
     "output_type": "stream",
     "text": [
      "Stage B – Iteration 7: Dropping 'node_Speed' with VIF = inf\n",
      "Stage B – Iteration 8: Dropping 'highest_academic_level_high_school' with VIF = inf\n"
     ]
    },
    {
     "name": "stderr",
     "output_type": "stream",
     "text": [
      "c:\\micromamba\\envs\\ml\\lib\\site-packages\\statsmodels\\regression\\linear_model.py:1784: RuntimeWarning: invalid value encountered in scalar divide\n",
      "  return 1 - self.ssr/self.uncentered_tss\n",
      "c:\\micromamba\\envs\\ml\\lib\\site-packages\\statsmodels\\stats\\outliers_influence.py:197: RuntimeWarning: divide by zero encountered in scalar divide\n",
      "  vif = 1. / (1. - r_squared_i)\n",
      "c:\\micromamba\\envs\\ml\\lib\\site-packages\\statsmodels\\regression\\linear_model.py:1784: RuntimeWarning: invalid value encountered in scalar divide\n",
      "  return 1 - self.ssr/self.uncentered_tss\n",
      "c:\\micromamba\\envs\\ml\\lib\\site-packages\\statsmodels\\stats\\outliers_influence.py:197: RuntimeWarning: divide by zero encountered in scalar divide\n",
      "  vif = 1. / (1. - r_squared_i)\n"
     ]
    },
    {
     "name": "stdout",
     "output_type": "stream",
     "text": [
      "Stage B – Iteration 9: Dropping 'node_Simple_Pendulum' with VIF = inf\n",
      "Stage B – Iteration 10: Dropping 'content_practice_tests' with VIF = inf\n"
     ]
    },
    {
     "name": "stderr",
     "output_type": "stream",
     "text": [
      "c:\\micromamba\\envs\\ml\\lib\\site-packages\\statsmodels\\regression\\linear_model.py:1784: RuntimeWarning: invalid value encountered in scalar divide\n",
      "  return 1 - self.ssr/self.uncentered_tss\n",
      "c:\\micromamba\\envs\\ml\\lib\\site-packages\\statsmodels\\stats\\outliers_influence.py:197: RuntimeWarning: divide by zero encountered in scalar divide\n",
      "  vif = 1. / (1. - r_squared_i)\n",
      "c:\\micromamba\\envs\\ml\\lib\\site-packages\\statsmodels\\regression\\linear_model.py:1784: RuntimeWarning: invalid value encountered in scalar divide\n",
      "  return 1 - self.ssr/self.uncentered_tss\n",
      "c:\\micromamba\\envs\\ml\\lib\\site-packages\\statsmodels\\regression\\linear_model.py:1784: RuntimeWarning: invalid value encountered in scalar divide\n",
      "  return 1 - self.ssr/self.uncentered_tss\n"
     ]
    },
    {
     "name": "stdout",
     "output_type": "stream",
     "text": [
      "Stage B – Iteration 11: Dropping 'content_gamified' with VIF = inf\n",
      "Stage B – Iteration 12: Dropping 'content_simulation' with VIF = inf\n",
      "Stage B – Iteration 13: Dropping 'app_Quizlet' with VIF = 1353.53\n"
     ]
    },
    {
     "name": "stderr",
     "output_type": "stream",
     "text": [
      "c:\\micromamba\\envs\\ml\\lib\\site-packages\\statsmodels\\regression\\linear_model.py:1784: RuntimeWarning: invalid value encountered in scalar divide\n",
      "  return 1 - self.ssr/self.uncentered_tss\n",
      "c:\\micromamba\\envs\\ml\\lib\\site-packages\\statsmodels\\regression\\linear_model.py:1784: RuntimeWarning: invalid value encountered in scalar divide\n",
      "  return 1 - self.ssr/self.uncentered_tss\n",
      "c:\\micromamba\\envs\\ml\\lib\\site-packages\\statsmodels\\regression\\linear_model.py:1784: RuntimeWarning: invalid value encountered in scalar divide\n",
      "  return 1 - self.ssr/self.uncentered_tss\n",
      "c:\\micromamba\\envs\\ml\\lib\\site-packages\\statsmodels\\regression\\linear_model.py:1784: RuntimeWarning: invalid value encountered in scalar divide\n",
      "  return 1 - self.ssr/self.uncentered_tss\n"
     ]
    },
    {
     "name": "stdout",
     "output_type": "stream",
     "text": [
      "Stage B – Iteration 14: Dropping 'highest_academic_level_none' with VIF = 569.93\n",
      "Stage B – Iteration 15: Dropping 'content_video' with VIF = 398.76\n",
      "Stage B – Iteration 16: Dropping 'app_Wikipedia' with VIF = 301.90\n",
      "Stage B – Iteration 17: Dropping 'highest_academic_level_primary_school' with VIF = 177.89\n"
     ]
    },
    {
     "name": "stderr",
     "output_type": "stream",
     "text": [
      "c:\\micromamba\\envs\\ml\\lib\\site-packages\\statsmodels\\regression\\linear_model.py:1784: RuntimeWarning: invalid value encountered in scalar divide\n",
      "  return 1 - self.ssr/self.uncentered_tss\n",
      "c:\\micromamba\\envs\\ml\\lib\\site-packages\\statsmodels\\regression\\linear_model.py:1784: RuntimeWarning: invalid value encountered in scalar divide\n",
      "  return 1 - self.ssr/self.uncentered_tss\n",
      "c:\\micromamba\\envs\\ml\\lib\\site-packages\\statsmodels\\regression\\linear_model.py:1784: RuntimeWarning: invalid value encountered in scalar divide\n",
      "  return 1 - self.ssr/self.uncentered_tss\n",
      "c:\\micromamba\\envs\\ml\\lib\\site-packages\\statsmodels\\regression\\linear_model.py:1784: RuntimeWarning: invalid value encountered in scalar divide\n",
      "  return 1 - self.ssr/self.uncentered_tss\n",
      "c:\\micromamba\\envs\\ml\\lib\\site-packages\\statsmodels\\regression\\linear_model.py:1784: RuntimeWarning: invalid value encountered in scalar divide\n",
      "  return 1 - self.ssr/self.uncentered_tss\n",
      "c:\\micromamba\\envs\\ml\\lib\\site-packages\\statsmodels\\regression\\linear_model.py:1784: RuntimeWarning: invalid value encountered in scalar divide\n",
      "  return 1 - self.ssr/self.uncentered_tss\n"
     ]
    },
    {
     "name": "stdout",
     "output_type": "stream",
     "text": [
      "Stage B – Iteration 18: Dropping 'method_flashcards' with VIF = 112.76\n",
      "Stage B – Iteration 19: Dropping 'resilience_after_failure' with VIF = 76.21\n",
      "Stage B – Iteration 20: Dropping 'node_Non-uniform_Linear_Motion' with VIF = 31.26\n",
      "Stage B – Iteration 21: Dropping 'app_Anki' with VIF = 24.25\n",
      "Stage B – Iteration 22: Dropping 'app_Brainly' with VIF = 19.92\n",
      "Stage B – Iteration 23: Dropping 'method_summarization' with VIF = 16.89\n",
      "Stage B – Iteration 24: Dropping 'app_Notion' with VIF = 13.16\n",
      "Stage B – Iteration 25: Dropping 'family_responsibilities_hrs' with VIF = 12.40\n",
      "\n",
      "Stage B: Final feature set after VIF filtering:\n",
      " ['conceptual_clarity_level', 'retention_strength', 'highest_academic_level_master', 'highest_academic_level_middle_school', 'highest_academic_level_phd', 'method_active_recall', 'method_spaced_repetition', 'method_practice_tests', 'method_group_study', 'method_mnemonics', 'app_Brilliant', 'app_StackOverflow', 'app_YouTube', 'app_Edpuzzle', 'app_Coursera', 'app_Edmodo', 'app_Duolingo', 'app_Overleaf', 'app_KhanAcademy', 'node_Sundial']\n",
      "No of columns after VIF filtering: 20\n"
     ]
    },
    {
     "name": "stderr",
     "output_type": "stream",
     "text": [
      "c:\\micromamba\\envs\\ml\\lib\\site-packages\\statsmodels\\regression\\linear_model.py:1784: RuntimeWarning: invalid value encountered in scalar divide\n",
      "  return 1 - self.ssr/self.uncentered_tss\n",
      "c:\\micromamba\\envs\\ml\\lib\\site-packages\\statsmodels\\regression\\linear_model.py:1784: RuntimeWarning: invalid value encountered in scalar divide\n",
      "  return 1 - self.ssr/self.uncentered_tss\n",
      "c:\\micromamba\\envs\\ml\\lib\\site-packages\\statsmodels\\regression\\linear_model.py:1784: RuntimeWarning: invalid value encountered in scalar divide\n",
      "  return 1 - self.ssr/self.uncentered_tss\n"
     ]
    }
   ],
   "source": [
    "\n",
    "# 12) Compute VIF iteratively on the full set\n",
    "df_full_stageB = df_stageB[good_full_cols].copy()\n",
    "scaler_B = StandardScaler()\n",
    "X_scaled_B = scaler_B.fit_transform(df_full_stageB)\n",
    "df_scaled_B = pd.DataFrame(X_scaled_B, columns=good_full_cols)\n",
    "\n",
    "iteration = 1\n",
    "while True:\n",
    "    vif_df_B = compute_vif(df_scaled_B[good_full_cols])\n",
    "    high_vif_B = vif_df_B[vif_df_B['VIF'] > vif_threshold]\n",
    "    if high_vif_B.empty:\n",
    "        break\n",
    "    # Identify feature with the highest VIF\n",
    "    feature_to_drop_B = high_vif_B.sort_values(by='VIF', ascending=False).iloc[0]['feature']\n",
    "    max_vif_val_B = high_vif_B.sort_values(by='VIF', ascending=False).iloc[0]['VIF']\n",
    "    print(f\"Stage B – Iteration {iteration}: Dropping '{feature_to_drop_B}' with VIF = {max_vif_val_B:.2f}\")\n",
    "    good_full_cols.remove(feature_to_drop_B)\n",
    "    iteration += 1\n",
    "\n",
    "print(\"\\nStage B: Final feature set after VIF filtering:\\n\", good_full_cols)\n",
    "print('No of columns after VIF filtering:', len(good_full_cols))\n"
   ]
  },
  {
   "cell_type": "code",
   "execution_count": null,
   "id": "eba3f8fd",
   "metadata": {},
   "outputs": [],
   "source": []
  }
 ],
 "metadata": {
  "kernelspec": {
   "display_name": "Python 3",
   "language": "python",
   "name": "python3"
  },
  "language_info": {
   "codemirror_mode": {
    "name": "ipython",
    "version": 3
   },
   "file_extension": ".py",
   "mimetype": "text/x-python",
   "name": "python",
   "nbconvert_exporter": "python",
   "pygments_lexer": "ipython3",
   "version": "3.10.13"
  }
 },
 "nbformat": 4,
 "nbformat_minor": 5
}
