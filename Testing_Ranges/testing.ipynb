{
 "cells": [
  {
   "cell_type": "code",
   "execution_count": 2,
   "id": "8a8f11ad",
   "metadata": {},
   "outputs": [],
   "source": [
    "import pandas as pd\n",
    "df = pd.read_csv('output/ground_truth_sections_params.csv')"
   ]
  },
  {
   "cell_type": "code",
   "execution_count": 3,
   "id": "ac6e273a",
   "metadata": {},
   "outputs": [
    {
     "data": {
      "text/plain": [
       "Index(['conceptual_clarity_level', 'attention_span_category',\n",
       "       'retention_strength', 'problem_solving_speed_sec', 'error_pattern',\n",
       "       'growth_slope', 'response_to_feedback', 'revisions_per_week',\n",
       "       'days_between_revisions', 'method_of_revision',\n",
       "       'question_asking_nature', 'self_assessment_accuracy',\n",
       "       'exploration_tendency', 'teacher_relationship_quality',\n",
       "       'peer_learning_behavior', 'communication_clarity',\n",
       "       'discussion_engagement', 'test_anxiety_level',\n",
       "       'resilience_after_failure', 'motivation_intrinsic_vs_extrinsic',\n",
       "       'achievement_orientation', 'emotional_self_awareness',\n",
       "       'device_access_type', 'preferred_edtech_apps',\n",
       "       'digital_distraction_level', 'input_method_preference',\n",
       "       'highest_academic_level', 'study_space_quality',\n",
       "       'academic_pressure_at_home', 'family_responsibilities_hrs',\n",
       "       'support_system_strength', 'content_type_preference',\n",
       "       'knowledge_graph_nodes_covered', 'metacognitive_skill_level',\n",
       "       'ongoing_concept', 'next_section', 'difficulty',\n",
       "       'board_exam_importance', 'olympiad_importance', 'avg_study_time_min',\n",
       "       'interest_evoking', 'curiosity_evoking', 'critical_reasoning_needed',\n",
       "       'inquiry_learning_scope', 'example_availability'],\n",
       "      dtype='object')"
      ]
     },
     "execution_count": 3,
     "metadata": {},
     "output_type": "execute_result"
    }
   ],
   "source": [
    "df.columns"
   ]
  },
  {
   "cell_type": "code",
   "execution_count": 4,
   "id": "f6643b2c",
   "metadata": {},
   "outputs": [
    {
     "data": {
      "text/plain": [
       "next_section\n",
       "Explanation (with analogies)    1382\n",
       "Concept Definition               101\n",
       "Real-Life Application             17\n",
       "Name: count, dtype: int64"
      ]
     },
     "execution_count": 4,
     "metadata": {},
     "output_type": "execute_result"
    }
   ],
   "source": [
    "df['next_section'].value_counts()"
   ]
  },
  {
   "cell_type": "code",
   "execution_count": 5,
   "id": "ae97f6e8",
   "metadata": {},
   "outputs": [
    {
     "data": {
      "text/plain": [
       "np.int64(0)"
      ]
     },
     "execution_count": 5,
     "metadata": {},
     "output_type": "execute_result"
    }
   ],
   "source": [
    "ignore_cols = ['section_name']\n",
    "check_cols = df.columns.difference(ignore_cols)\n",
    "df.duplicated(subset=check_cols).sum()\n"
   ]
  },
  {
   "cell_type": "code",
   "execution_count": 9,
   "id": "978907a5",
   "metadata": {},
   "outputs": [
    {
     "data": {
      "text/plain": [
       "np.int64(10)"
      ]
     },
     "execution_count": 9,
     "metadata": {},
     "output_type": "execute_result"
    }
   ],
   "source": [
    "df[df['next_section']=='Real-Life Application'].duplicated(subset=['next_section','difficulty',\n",
    "       'board_exam_importance', 'olympiad_importance', 'avg_study_time_min',\n",
    "       'interest_evoking', 'curiosity_evoking', 'critical_reasoning_needed',\n",
    "       'inquiry_learning_scope', 'example_availability']).sum()"
   ]
  },
  {
   "cell_type": "code",
   "execution_count": 10,
   "id": "1bb92923",
   "metadata": {},
   "outputs": [
    {
     "data": {
      "text/plain": [
       "np.int64(86)"
      ]
     },
     "execution_count": 10,
     "metadata": {},
     "output_type": "execute_result"
    }
   ],
   "source": [
    "df[df['next_section']=='Concept Definition'].duplicated(subset=['next_section','difficulty',\n",
    "       'board_exam_importance', 'olympiad_importance', 'avg_study_time_min',\n",
    "       'interest_evoking', 'curiosity_evoking', 'critical_reasoning_needed',\n",
    "       'inquiry_learning_scope', 'example_availability']).sum()"
   ]
  },
  {
   "cell_type": "code",
   "execution_count": null,
   "id": "8338d107",
   "metadata": {},
   "outputs": [],
   "source": []
  }
 ],
 "metadata": {
  "kernelspec": {
   "display_name": "Python 3",
   "language": "python",
   "name": "python3"
  },
  "language_info": {
   "codemirror_mode": {
    "name": "ipython",
    "version": 3
   },
   "file_extension": ".py",
   "mimetype": "text/x-python",
   "name": "python",
   "nbconvert_exporter": "python",
   "pygments_lexer": "ipython3",
   "version": "3.13.2"
  }
 },
 "nbformat": 4,
 "nbformat_minor": 5
}
